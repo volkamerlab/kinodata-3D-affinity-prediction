{
 "cells": [
  {
   "cell_type": "code",
   "execution_count": 1,
   "metadata": {},
   "outputs": [],
   "source": [
    "from kinodata.data.patch_with_data_source import patch_pyg_kinodata3d_dataset\n",
    "from kinodata.data import KinodataDocked"
   ]
  },
  {
   "cell_type": "code",
   "execution_count": 2,
   "metadata": {},
   "outputs": [],
   "source": [
    "dataset = KinodataDocked()"
   ]
  },
  {
   "cell_type": "code",
   "execution_count": 3,
   "metadata": {},
   "outputs": [
    {
     "name": "stdout",
     "output_type": "stream",
     "text": [
      "Reading data frame from /Users/joschkagross/projects/kinodata-3D-affinity-prediction/data/raw/kinodata_docked_v2.sdf.gz...\n",
      "Deduping data frame (current size: 121913)...\n",
      "119713 complexes remain after deduplication.\n",
      "Checking for missing pocket mol2 files...\n"
     ]
    },
    {
     "name": "stderr",
     "output_type": "stream",
     "text": [
      "100%|██████████| 3244/3244 [00:00<00:00, 202752.61it/s]\n"
     ]
    },
    {
     "name": "stdout",
     "output_type": "stream",
     "text": [
      "Adding pocket sequences...\n"
     ]
    },
    {
     "name": "stderr",
     "output_type": "stream",
     "text": [
      "100%|██████████| 119713/119713 [00:00<00:00, 5138910.99it/s]"
     ]
    },
    {
     "name": "stdout",
     "output_type": "stream",
     "text": [
      "Exiting with 3552 cached sequences.\n"
     ]
    },
    {
     "name": "stderr",
     "output_type": "stream",
     "text": [
      "\n"
     ]
    }
   ],
   "source": [
    "# during dataset creation, this data frame is the main data source\n",
    "df = dataset.df"
   ]
  },
  {
   "cell_type": "code",
   "execution_count": 4,
   "metadata": {},
   "outputs": [
    {
     "data": {
      "text/plain": [
       "Index(['docking.posit_probability', 'docking.chemgauss_score',\n",
       "       'assays.chembl_id', 'target_dictionary.chembl_id',\n",
       "       'molecule_dictionary.chembl_id', 'molecule_dictionary.max_phase',\n",
       "       'activities.standard_type', 'activities.standard_units',\n",
       "       'compound_structures.canonical_smiles',\n",
       "       'compound_structures.standard_inchi', 'component_sequences.sequence',\n",
       "       'assays.confidence_score', 'docs.chembl_id', 'docs.year',\n",
       "       'docs.authors', 'UniprotID', 'similar.klifs_structure_id',\n",
       "       'similar.fp_similarity', 'ID', 'activities.standard_value',\n",
       "       'docking.predicted_rmsd', 'molecule', 'activities.activity_id',\n",
       "       'pocket_mol2_file', 'ident', 'structure.pocket_sequence'],\n",
       "      dtype='object')"
      ]
     },
     "execution_count": 4,
     "metadata": {},
     "output_type": "execute_result"
    }
   ],
   "source": [
    "# it includes some additional data columns, not all of which are used by the dataset\n",
    "df.columns"
   ]
  },
  {
   "cell_type": "code",
   "execution_count": 5,
   "metadata": {},
   "outputs": [
    {
     "name": "stdout",
     "output_type": "stream",
     "text": [
      "Attempting to patch KinodataDocked(119522) to include source column 'assays.chembl_id' as data.'chembl_assay_id'.\n",
      "Applying permamnent transform RetrieveAndAddColumn(assays.chembl_id, chembl_assay_id, transform=None) to KinodataDocked(119522)...\n"
     ]
    },
    {
     "name": "stderr",
     "output_type": "stream",
     "text": [
      "100%|██████████| 119522/119522 [00:18<00:00, 6598.43it/s]\n"
     ]
    },
    {
     "name": "stdout",
     "output_type": "stream",
     "text": [
      "Done! Collating transformed data list...\n"
     ]
    }
   ],
   "source": [
    "# with this method we can patch the dataset with some column from the data source\n",
    "# eg the chembl assay id\n",
    "dataset = patch_pyg_kinodata3d_dataset(dataset, \"assays.chembl_id\", \"chembl_assay_id\")"
   ]
  },
  {
   "cell_type": "code",
   "execution_count": 6,
   "metadata": {},
   "outputs": [
    {
     "name": "stdout",
     "output_type": "stream",
     "text": [
      "['CHEMBL3707950', 'CHEMBL5115458', 'CHEMBL4739197', 'CHEMBL2150524']\n"
     ]
    }
   ],
   "source": [
    "from torch_geometric.loader import DataLoader\n",
    "loader = DataLoader(dataset, batch_size=4, shuffle=True)\n",
    "batch = next(iter(loader))\n",
    "print(batch.chembl_assay_id)"
   ]
  },
  {
   "cell_type": "code",
   "execution_count": 8,
   "metadata": {},
   "outputs": [
    {
     "name": "stdout",
     "output_type": "stream",
     "text": [
      "Attempting to patch KinodataDocked(119522) to include source column 'activities.standard_value' as data.'check_activity'.\n",
      "Applying permamnent transform RetrieveAndAddColumn(activities.standard_value, check_activity, transform=None) to KinodataDocked(119522)...\n"
     ]
    },
    {
     "name": "stderr",
     "output_type": "stream",
     "text": [
      "100%|██████████| 119522/119522 [00:17<00:00, 6860.80it/s]\n"
     ]
    },
    {
     "name": "stdout",
     "output_type": "stream",
     "text": [
      "Done! Collating transformed data list...\n"
     ]
    }
   ],
   "source": [
    "# use chembl activities as a sanity check to verify the mapping using kinodata idents\n",
    "dataset = patch_pyg_kinodata3d_dataset(dataset, \"activities.standard_value\", \"check_activity\")"
   ]
  },
  {
   "cell_type": "code",
   "execution_count": 9,
   "metadata": {},
   "outputs": [
    {
     "name": "stdout",
     "output_type": "stream",
     "text": [
      "tensor([6.7212, 7.7670, 7.2161, 7.6343])\n",
      "tensor([6.7212, 7.7670, 7.2161, 7.6343], dtype=torch.float64)\n"
     ]
    }
   ],
   "source": [
    "loader = DataLoader(dataset, batch_size=4, shuffle=True)\n",
    "batch = next(iter(loader))\n",
    "print(batch.y)\n",
    "print(batch.check_activity)"
   ]
  }
 ],
 "metadata": {
  "kernelspec": {
   "display_name": "kinodata3d",
   "language": "python",
   "name": "python3"
  },
  "language_info": {
   "codemirror_mode": {
    "name": "ipython",
    "version": 3
   },
   "file_extension": ".py",
   "mimetype": "text/x-python",
   "name": "python",
   "nbconvert_exporter": "python",
   "pygments_lexer": "ipython3",
   "version": "3.10.8"
  }
 },
 "nbformat": 4,
 "nbformat_minor": 2
}
